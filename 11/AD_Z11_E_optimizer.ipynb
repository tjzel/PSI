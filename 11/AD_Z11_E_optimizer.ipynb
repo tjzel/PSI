{
 "cells": [
  {
   "cell_type": "code",
   "execution_count": 1,
   "metadata": {},
   "outputs": [
    {
     "name": "stderr",
     "output_type": "stream",
     "text": [
      "2024-05-10 13:01:41.593062: I tensorflow/core/platform/cpu_feature_guard.cc:182] This TensorFlow binary is optimized to use available CPU instructions in performance-critical operations.\n",
      "To enable the following instructions: AVX2 FMA, in other operations, rebuild TensorFlow with the appropriate compiler flags.\n"
     ]
    },
    {
     "name": "stdout",
     "output_type": "stream",
     "text": [
      "2.13.1\n"
     ]
    }
   ],
   "source": [
    "import numpy as np\n",
    "import tensorflow as tf\n",
    "import tensorflow as tf\n",
    "from tensorflow import keras\n",
    "print(tf.__version__)\n",
    "\n",
    "from numpy.random import seed\n",
    "seed(123)"
   ]
  },
  {
   "cell_type": "markdown",
   "metadata": {},
   "source": [
    "# Zad\n",
    "Porównaj wyniki działań różnych optymalizacji\n",
    "* \n",
    "```python\n",
    "sgd = keras.optimizers.SGD(lr=0.01, decay=1e-6, momentum=0.9, nesterov=False)\n",
    "```\n",
    "* \n",
    "```python\n",
    "sgd = keras.optimizers.SGD(lr=0.01, decay=1e-6, momentum=0.9, nesterov=True)\n",
    "```\n",
    "* \n",
    "```python\n",
    "RMSprop = keras.optimizers.RMSprop(learning_rate=0.001, rho=0.9)\n",
    "```\n",
    "* \n",
    "```python\n",
    "Adagrad = keras.optimizers.Adagrad(learning_rate=0.01)\n",
    "```\n",
    "* \n",
    "```python\n",
    "Adadelta = keras.optimizers.Adadelta(learning_rate=1.0, rho=0.95)\n",
    "```\n",
    "* \n",
    "```python\n",
    "Adam = keras.optimizers.Adam(learning_rate=0.001, beta_1=0.9, beta_2=0.999, amsgrad=False)\n",
    "```\n",
    "* \n",
    "```python\n",
    "Adam = keras.optimizers.Adam(learning_rate=0.0001, beta_1=0.9, beta_2=0.999, amsgrad=False)\n",
    "```\n",
    "\n",
    "https://keras.io/optimizers/"
   ]
  },
  {
   "cell_type": "code",
   "execution_count": 2,
   "metadata": {},
   "outputs": [
    {
     "name": "stderr",
     "output_type": "stream",
     "text": [
      "/var/folders/k_/2tytwy6d2ll1_kvk_k0j7vd00000gn/T/ipykernel_8144/1853370235.py:6: ParserWarning: Falling back to the 'python' engine because the 'c' engine does not support regex separators (separators > 1 char and different from '\\s+' are interpreted as regex); you can avoid this warning by specifying engine='python'.\n",
      "  train_set = pd.read_csv('adult/adult.data', sep=\", \",header = None)\n",
      "/var/folders/k_/2tytwy6d2ll1_kvk_k0j7vd00000gn/T/ipykernel_8144/1853370235.py:7: ParserWarning: Falling back to the 'python' engine because the 'c' engine does not support regex separators (separators > 1 char and different from '\\s+' are interpreted as regex); you can avoid this warning by specifying engine='python'.\n",
      "  test_set = pd.read_csv('adult/adult.test', sep=\", \",skiprows = 1, header = None) # Make sure to skip a row for the test set\n"
     ]
    },
    {
     "data": {
      "text/html": [
       "<div>\n",
       "<style scoped>\n",
       "    .dataframe tbody tr th:only-of-type {\n",
       "        vertical-align: middle;\n",
       "    }\n",
       "\n",
       "    .dataframe tbody tr th {\n",
       "        vertical-align: top;\n",
       "    }\n",
       "\n",
       "    .dataframe thead th {\n",
       "        text-align: right;\n",
       "    }\n",
       "</style>\n",
       "<table border=\"1\" class=\"dataframe\">\n",
       "  <thead>\n",
       "    <tr style=\"text-align: right;\">\n",
       "      <th></th>\n",
       "      <th>age</th>\n",
       "      <th>workclass</th>\n",
       "      <th>fnlwgt</th>\n",
       "      <th>education</th>\n",
       "      <th>education_num</th>\n",
       "      <th>marital_status</th>\n",
       "      <th>occupation</th>\n",
       "      <th>relationship</th>\n",
       "      <th>race</th>\n",
       "      <th>sex</th>\n",
       "      <th>capital_gain</th>\n",
       "      <th>capital_loss</th>\n",
       "      <th>hours_per_week</th>\n",
       "      <th>native_country</th>\n",
       "      <th>wage_class</th>\n",
       "    </tr>\n",
       "  </thead>\n",
       "  <tbody>\n",
       "    <tr>\n",
       "      <th>0</th>\n",
       "      <td>39</td>\n",
       "      <td>State-gov</td>\n",
       "      <td>77516</td>\n",
       "      <td>Bachelors</td>\n",
       "      <td>13</td>\n",
       "      <td>Never-married</td>\n",
       "      <td>Adm-clerical</td>\n",
       "      <td>Not-in-family</td>\n",
       "      <td>White</td>\n",
       "      <td>Male</td>\n",
       "      <td>2174</td>\n",
       "      <td>0</td>\n",
       "      <td>40</td>\n",
       "      <td>United-States</td>\n",
       "      <td>&lt;=50K</td>\n",
       "    </tr>\n",
       "    <tr>\n",
       "      <th>1</th>\n",
       "      <td>50</td>\n",
       "      <td>Self-emp-not-inc</td>\n",
       "      <td>83311</td>\n",
       "      <td>Bachelors</td>\n",
       "      <td>13</td>\n",
       "      <td>Married-civ-spouse</td>\n",
       "      <td>Exec-managerial</td>\n",
       "      <td>Husband</td>\n",
       "      <td>White</td>\n",
       "      <td>Male</td>\n",
       "      <td>0</td>\n",
       "      <td>0</td>\n",
       "      <td>13</td>\n",
       "      <td>United-States</td>\n",
       "      <td>&lt;=50K</td>\n",
       "    </tr>\n",
       "    <tr>\n",
       "      <th>2</th>\n",
       "      <td>38</td>\n",
       "      <td>Private</td>\n",
       "      <td>215646</td>\n",
       "      <td>HS-grad</td>\n",
       "      <td>9</td>\n",
       "      <td>Divorced</td>\n",
       "      <td>Handlers-cleaners</td>\n",
       "      <td>Not-in-family</td>\n",
       "      <td>White</td>\n",
       "      <td>Male</td>\n",
       "      <td>0</td>\n",
       "      <td>0</td>\n",
       "      <td>40</td>\n",
       "      <td>United-States</td>\n",
       "      <td>&lt;=50K</td>\n",
       "    </tr>\n",
       "    <tr>\n",
       "      <th>3</th>\n",
       "      <td>53</td>\n",
       "      <td>Private</td>\n",
       "      <td>234721</td>\n",
       "      <td>11th</td>\n",
       "      <td>7</td>\n",
       "      <td>Married-civ-spouse</td>\n",
       "      <td>Handlers-cleaners</td>\n",
       "      <td>Husband</td>\n",
       "      <td>Black</td>\n",
       "      <td>Male</td>\n",
       "      <td>0</td>\n",
       "      <td>0</td>\n",
       "      <td>40</td>\n",
       "      <td>United-States</td>\n",
       "      <td>&lt;=50K</td>\n",
       "    </tr>\n",
       "    <tr>\n",
       "      <th>4</th>\n",
       "      <td>28</td>\n",
       "      <td>Private</td>\n",
       "      <td>338409</td>\n",
       "      <td>Bachelors</td>\n",
       "      <td>13</td>\n",
       "      <td>Married-civ-spouse</td>\n",
       "      <td>Prof-specialty</td>\n",
       "      <td>Wife</td>\n",
       "      <td>Black</td>\n",
       "      <td>Female</td>\n",
       "      <td>0</td>\n",
       "      <td>0</td>\n",
       "      <td>40</td>\n",
       "      <td>Cuba</td>\n",
       "      <td>&lt;=50K</td>\n",
       "    </tr>\n",
       "  </tbody>\n",
       "</table>\n",
       "</div>"
      ],
      "text/plain": [
       "   age         workclass  fnlwgt  education  education_num  \\\n",
       "0   39         State-gov   77516  Bachelors             13   \n",
       "1   50  Self-emp-not-inc   83311  Bachelors             13   \n",
       "2   38           Private  215646    HS-grad              9   \n",
       "3   53           Private  234721       11th              7   \n",
       "4   28           Private  338409  Bachelors             13   \n",
       "\n",
       "       marital_status         occupation   relationship   race     sex  \\\n",
       "0       Never-married       Adm-clerical  Not-in-family  White    Male   \n",
       "1  Married-civ-spouse    Exec-managerial        Husband  White    Male   \n",
       "2            Divorced  Handlers-cleaners  Not-in-family  White    Male   \n",
       "3  Married-civ-spouse  Handlers-cleaners        Husband  Black    Male   \n",
       "4  Married-civ-spouse     Prof-specialty           Wife  Black  Female   \n",
       "\n",
       "   capital_gain  capital_loss  hours_per_week native_country wage_class  \n",
       "0          2174             0              40  United-States      <=50K  \n",
       "1             0             0              13  United-States      <=50K  \n",
       "2             0             0              40  United-States      <=50K  \n",
       "3             0             0              40  United-States      <=50K  \n",
       "4             0             0              40           Cuba      <=50K  "
      ]
     },
     "execution_count": 2,
     "metadata": {},
     "output_type": "execute_result"
    }
   ],
   "source": [
    "# Wczytaj dane treningowe i testowe\n",
    "import numpy as np\n",
    "import matplotlib.pyplot as plt\n",
    "import pandas as pd\n",
    "\n",
    "train_set = pd.read_csv('adult/adult.data', sep=\", \",header = None)\n",
    "test_set = pd.read_csv('adult/adult.test', sep=\", \",skiprows = 1, header = None) # Make sure to skip a row for the test set\n",
    "\n",
    "col_labels = ['age', 'workclass', 'fnlwgt', 'education', 'education_num', 'marital_status', 'occupation', \n",
    "              'relationship', 'race', 'sex', 'capital_gain', 'capital_loss', 'hours_per_week', 'native_country',\n",
    "             'wage_class']\n",
    "train_set.columns = col_labels\n",
    "test_set.columns = col_labels\n",
    "\n",
    "train = train_set.replace('?', np.nan).dropna()\n",
    "test = test_set.replace('?', np.nan).dropna()\n",
    "\n",
    "train_set.head()\n"
   ]
  },
  {
   "cell_type": "code",
   "execution_count": 3,
   "metadata": {},
   "outputs": [
    {
     "name": "stdout",
     "output_type": "stream",
     "text": [
      "(30162, 41)\n"
     ]
    },
    {
     "data": {
      "text/plain": [
       "(15060, 41)"
      ]
     },
     "execution_count": 3,
     "metadata": {},
     "output_type": "execute_result"
    }
   ],
   "source": [
    "\n",
    "\n",
    "\n",
    "\n",
    "dataset = pd.concat([train,test])\n",
    "\n",
    "dataset['wage_class'] = dataset.wage_class.replace({'<=50K.': 0,'<=50K':0, '>50K.':1, '>50K':1})\n",
    "\n",
    "dataset.drop([\"fnlwgt\"],axis=1,inplace=True)\n",
    "\n",
    "dataset.drop([\"education\"],axis=1,inplace=True)\n",
    "\n",
    "x = dataset.groupby('native_country')[\"wage_class\"].mean()\n",
    "\n",
    "d = dict(pd.cut(x[x.index!=\" United-States\"],5,labels=range(5)))\n",
    "\n",
    "dataset['native_country'] = dataset['native_country'].replace(d)\n",
    "\n",
    "dataset = pd.get_dummies(dataset,drop_first=True)\n",
    "\n",
    "train = dataset.iloc[:train.shape[0]]\n",
    "test = dataset.iloc[train.shape[0]:]\n",
    "\n",
    "X_train = train.drop(\"wage_class\",axis=1)\n",
    "y_train = train.wage_class\n",
    "\n",
    "X_test = test.drop(\"wage_class\",axis=1)\n",
    "y_test = test.wage_class\n",
    "\n",
    "from sklearn.preprocessing import StandardScaler\n",
    "sc = StandardScaler()\n",
    "X_train = sc.fit_transform(X_train)\n",
    "X_test = sc.transform(X_test)\n",
    "\n",
    "print(X_train.shape)\n",
    "X_test.shape"
   ]
  },
  {
   "cell_type": "markdown",
   "metadata": {},
   "source": [
    "# SGD"
   ]
  },
  {
   "cell_type": "code",
   "execution_count": 4,
   "metadata": {},
   "outputs": [
    {
     "name": "stdout",
     "output_type": "stream",
     "text": [
      "Model: \"sequential\"\n",
      "_________________________________________________________________\n",
      " Layer (type)                Output Shape              Param #   \n",
      "=================================================================\n",
      " dense (Dense)               (None, 100)               4200      \n",
      "                                                                 \n",
      " dense_1 (Dense)             (None, 50)                5050      \n",
      "                                                                 \n",
      " dense_2 (Dense)             (None, 10)                510       \n",
      "                                                                 \n",
      " dense_3 (Dense)             (None, 1)                 11        \n",
      "                                                                 \n",
      "=================================================================\n",
      "Total params: 9771 (38.17 KB)\n",
      "Trainable params: 9771 (38.17 KB)\n",
      "Non-trainable params: 0 (0.00 Byte)\n",
      "_________________________________________________________________\n"
     ]
    }
   ],
   "source": [
    "from keras.models import Sequential\n",
    "from keras.layers import Dense\n",
    "\n",
    "from keras.callbacks import History\n",
    "\n",
    "history_sgd = History()\n",
    "model = Sequential()\n",
    "model.add(Dense(100,activation=\"sigmoid\",input_shape=(X_train.shape[1],)))\n",
    "model.add(Dense(50,activation=\"sigmoid\"))\n",
    "model.add(Dense(10,activation=\"sigmoid\"))\n",
    "model.add(Dense(1,activation=\"sigmoid\"))\n",
    "model.summary()"
   ]
  },
  {
   "cell_type": "code",
   "execution_count": 6,
   "metadata": {},
   "outputs": [
    {
     "name": "stderr",
     "output_type": "stream",
     "text": [
      "/Users/apple/Projects/UJ_zajecia/venvp/lib/python3.8/site-packages/keras/src/optimizers/legacy/gradient_descent.py:114: UserWarning: The `lr` argument is deprecated, use `learning_rate` instead.\n",
      "  super().__init__(name, **kwargs)\n"
     ]
    }
   ],
   "source": [
    "sgd = tf.keras.optimizers.legacy.SGD(lr=0.01, decay=1e-6, momentum=0.9, nesterov=True)\n",
    "model.compile(loss=\"binary_crossentropy\",optimizer=sgd, metrics=[\"accuracy\"])"
   ]
  },
  {
   "cell_type": "code",
   "execution_count": 7,
   "metadata": {},
   "outputs": [
    {
     "name": "stdout",
     "output_type": "stream",
     "text": [
      "Epoch 1/100\n",
      "943/943 [==============================] - 2s 2ms/step - loss: 0.5313 - accuracy: 0.7496 - val_loss: 0.4168 - val_accuracy: 0.7866\n",
      "Epoch 2/100\n",
      "943/943 [==============================] - 2s 2ms/step - loss: 0.3576 - accuracy: 0.8309 - val_loss: 0.3414 - val_accuracy: 0.8402\n",
      "Epoch 3/100\n",
      "943/943 [==============================] - 2s 2ms/step - loss: 0.3388 - accuracy: 0.8392 - val_loss: 0.3345 - val_accuracy: 0.8452\n",
      "Epoch 4/100\n",
      "943/943 [==============================] - 2s 2ms/step - loss: 0.3334 - accuracy: 0.8434 - val_loss: 0.3310 - val_accuracy: 0.8465\n",
      "Epoch 5/100\n",
      "943/943 [==============================] - 2s 2ms/step - loss: 0.3299 - accuracy: 0.8449 - val_loss: 0.3287 - val_accuracy: 0.8479\n",
      "Epoch 6/100\n",
      "943/943 [==============================] - 2s 2ms/step - loss: 0.3283 - accuracy: 0.8470 - val_loss: 0.3281 - val_accuracy: 0.8463\n",
      "Epoch 7/100\n",
      "943/943 [==============================] - 2s 2ms/step - loss: 0.3280 - accuracy: 0.8459 - val_loss: 0.3270 - val_accuracy: 0.8489\n",
      "Epoch 8/100\n",
      "943/943 [==============================] - 2s 2ms/step - loss: 0.3261 - accuracy: 0.8475 - val_loss: 0.3328 - val_accuracy: 0.8407\n",
      "Epoch 9/100\n",
      "943/943 [==============================] - 2s 2ms/step - loss: 0.3252 - accuracy: 0.8475 - val_loss: 0.3255 - val_accuracy: 0.8474\n",
      "Epoch 10/100\n",
      "943/943 [==============================] - 2s 2ms/step - loss: 0.3248 - accuracy: 0.8477 - val_loss: 0.3261 - val_accuracy: 0.8477\n",
      "Epoch 11/100\n",
      "943/943 [==============================] - 2s 2ms/step - loss: 0.3241 - accuracy: 0.8475 - val_loss: 0.3272 - val_accuracy: 0.8461\n",
      "Epoch 12/100\n",
      "943/943 [==============================] - 2s 2ms/step - loss: 0.3227 - accuracy: 0.8499 - val_loss: 0.3257 - val_accuracy: 0.8483\n",
      "Epoch 13/100\n",
      "943/943 [==============================] - 2s 2ms/step - loss: 0.3225 - accuracy: 0.8485 - val_loss: 0.3238 - val_accuracy: 0.8471\n",
      "Epoch 14/100\n",
      "943/943 [==============================] - 2s 2ms/step - loss: 0.3215 - accuracy: 0.8490 - val_loss: 0.3270 - val_accuracy: 0.8470\n",
      "Epoch 15/100\n",
      "943/943 [==============================] - 2s 2ms/step - loss: 0.3207 - accuracy: 0.8488 - val_loss: 0.3222 - val_accuracy: 0.8483\n",
      "Epoch 16/100\n",
      "943/943 [==============================] - 2s 2ms/step - loss: 0.3197 - accuracy: 0.8494 - val_loss: 0.3228 - val_accuracy: 0.8477\n",
      "Epoch 17/100\n",
      "943/943 [==============================] - 2s 2ms/step - loss: 0.3193 - accuracy: 0.8506 - val_loss: 0.3245 - val_accuracy: 0.8469\n",
      "Epoch 18/100\n",
      "943/943 [==============================] - 2s 2ms/step - loss: 0.3185 - accuracy: 0.8507 - val_loss: 0.3211 - val_accuracy: 0.8487\n",
      "Epoch 19/100\n",
      "943/943 [==============================] - 2s 2ms/step - loss: 0.3179 - accuracy: 0.8508 - val_loss: 0.3202 - val_accuracy: 0.8505\n",
      "Epoch 20/100\n",
      "943/943 [==============================] - 2s 2ms/step - loss: 0.3176 - accuracy: 0.8519 - val_loss: 0.3217 - val_accuracy: 0.8491\n",
      "Epoch 21/100\n",
      "943/943 [==============================] - 2s 2ms/step - loss: 0.3166 - accuracy: 0.8515 - val_loss: 0.3217 - val_accuracy: 0.8503\n",
      "Epoch 22/100\n",
      "943/943 [==============================] - 2s 2ms/step - loss: 0.3163 - accuracy: 0.8528 - val_loss: 0.3216 - val_accuracy: 0.8509\n",
      "Epoch 23/100\n",
      "943/943 [==============================] - 2s 2ms/step - loss: 0.3157 - accuracy: 0.8524 - val_loss: 0.3194 - val_accuracy: 0.8506\n",
      "Epoch 24/100\n",
      "943/943 [==============================] - 2s 2ms/step - loss: 0.3152 - accuracy: 0.8520 - val_loss: 0.3216 - val_accuracy: 0.8495\n",
      "Epoch 25/100\n",
      "943/943 [==============================] - 2s 2ms/step - loss: 0.3147 - accuracy: 0.8528 - val_loss: 0.3193 - val_accuracy: 0.8508\n",
      "Epoch 26/100\n",
      "943/943 [==============================] - 2s 2ms/step - loss: 0.3147 - accuracy: 0.8522 - val_loss: 0.3193 - val_accuracy: 0.8509\n",
      "Epoch 27/100\n",
      "943/943 [==============================] - 2s 2ms/step - loss: 0.3131 - accuracy: 0.8537 - val_loss: 0.3198 - val_accuracy: 0.8504\n",
      "Epoch 28/100\n",
      "943/943 [==============================] - 2s 2ms/step - loss: 0.3129 - accuracy: 0.8545 - val_loss: 0.3220 - val_accuracy: 0.8479\n",
      "Epoch 29/100\n",
      "943/943 [==============================] - 2s 2ms/step - loss: 0.3129 - accuracy: 0.8531 - val_loss: 0.3171 - val_accuracy: 0.8509\n",
      "Epoch 30/100\n",
      "943/943 [==============================] - 2s 2ms/step - loss: 0.3125 - accuracy: 0.8534 - val_loss: 0.3190 - val_accuracy: 0.8505\n",
      "Epoch 31/100\n",
      "943/943 [==============================] - 2s 2ms/step - loss: 0.3113 - accuracy: 0.8536 - val_loss: 0.3200 - val_accuracy: 0.8507\n",
      "Epoch 32/100\n",
      "943/943 [==============================] - 2s 2ms/step - loss: 0.3111 - accuracy: 0.8548 - val_loss: 0.3175 - val_accuracy: 0.8508\n",
      "Epoch 33/100\n",
      "943/943 [==============================] - 2s 2ms/step - loss: 0.3112 - accuracy: 0.8538 - val_loss: 0.3186 - val_accuracy: 0.8493\n",
      "Epoch 34/100\n",
      "943/943 [==============================] - 2s 2ms/step - loss: 0.3110 - accuracy: 0.8560 - val_loss: 0.3180 - val_accuracy: 0.8505\n",
      "Epoch 35/100\n",
      "943/943 [==============================] - 2s 2ms/step - loss: 0.3100 - accuracy: 0.8538 - val_loss: 0.3215 - val_accuracy: 0.8476\n",
      "Epoch 36/100\n",
      "943/943 [==============================] - 2s 2ms/step - loss: 0.3099 - accuracy: 0.8543 - val_loss: 0.3197 - val_accuracy: 0.8511\n",
      "Epoch 37/100\n",
      "943/943 [==============================] - 2s 2ms/step - loss: 0.3095 - accuracy: 0.8547 - val_loss: 0.3233 - val_accuracy: 0.8483\n",
      "Epoch 38/100\n",
      "943/943 [==============================] - 2s 2ms/step - loss: 0.3095 - accuracy: 0.8561 - val_loss: 0.3185 - val_accuracy: 0.8505\n",
      "Epoch 39/100\n",
      "943/943 [==============================] - 2s 2ms/step - loss: 0.3092 - accuracy: 0.8548 - val_loss: 0.3180 - val_accuracy: 0.8504\n",
      "Epoch 40/100\n",
      "943/943 [==============================] - 2s 2ms/step - loss: 0.3084 - accuracy: 0.8547 - val_loss: 0.3176 - val_accuracy: 0.8497\n",
      "Epoch 41/100\n",
      "943/943 [==============================] - 2s 2ms/step - loss: 0.3085 - accuracy: 0.8544 - val_loss: 0.3181 - val_accuracy: 0.8500\n",
      "Epoch 42/100\n",
      "943/943 [==============================] - 2s 2ms/step - loss: 0.3084 - accuracy: 0.8559 - val_loss: 0.3182 - val_accuracy: 0.8507\n",
      "Epoch 43/100\n",
      "943/943 [==============================] - 2s 2ms/step - loss: 0.3081 - accuracy: 0.8554 - val_loss: 0.3186 - val_accuracy: 0.8505\n",
      "Epoch 44/100\n",
      "943/943 [==============================] - 2s 2ms/step - loss: 0.3075 - accuracy: 0.8565 - val_loss: 0.3185 - val_accuracy: 0.8503\n",
      "Epoch 45/100\n",
      "943/943 [==============================] - 2s 2ms/step - loss: 0.3075 - accuracy: 0.8554 - val_loss: 0.3186 - val_accuracy: 0.8497\n",
      "Epoch 46/100\n",
      "943/943 [==============================] - 2s 2ms/step - loss: 0.3069 - accuracy: 0.8562 - val_loss: 0.3251 - val_accuracy: 0.8456\n",
      "Epoch 47/100\n",
      "943/943 [==============================] - 2s 2ms/step - loss: 0.3073 - accuracy: 0.8567 - val_loss: 0.3189 - val_accuracy: 0.8500\n",
      "Epoch 48/100\n",
      "943/943 [==============================] - 2s 2ms/step - loss: 0.3065 - accuracy: 0.8565 - val_loss: 0.3214 - val_accuracy: 0.8503\n",
      "Epoch 49/100\n",
      "943/943 [==============================] - 2s 2ms/step - loss: 0.3064 - accuracy: 0.8564 - val_loss: 0.3189 - val_accuracy: 0.8499\n",
      "Epoch 50/100\n",
      "943/943 [==============================] - 2s 2ms/step - loss: 0.3062 - accuracy: 0.8562 - val_loss: 0.3189 - val_accuracy: 0.8499\n",
      "Epoch 51/100\n",
      "943/943 [==============================] - 2s 2ms/step - loss: 0.3061 - accuracy: 0.8557 - val_loss: 0.3204 - val_accuracy: 0.8497\n",
      "Epoch 52/100\n",
      "943/943 [==============================] - 2s 2ms/step - loss: 0.3057 - accuracy: 0.8573 - val_loss: 0.3216 - val_accuracy: 0.8491\n",
      "Epoch 53/100\n",
      "943/943 [==============================] - 2s 2ms/step - loss: 0.3052 - accuracy: 0.8572 - val_loss: 0.3192 - val_accuracy: 0.8497\n",
      "Epoch 54/100\n",
      "943/943 [==============================] - 2s 2ms/step - loss: 0.3051 - accuracy: 0.8567 - val_loss: 0.3195 - val_accuracy: 0.8486\n",
      "Epoch 55/100\n",
      "943/943 [==============================] - 2s 2ms/step - loss: 0.3050 - accuracy: 0.8569 - val_loss: 0.3221 - val_accuracy: 0.8479\n",
      "Epoch 56/100\n",
      "943/943 [==============================] - 2s 2ms/step - loss: 0.3051 - accuracy: 0.8569 - val_loss: 0.3206 - val_accuracy: 0.8495\n",
      "Epoch 57/100\n",
      "943/943 [==============================] - 2s 2ms/step - loss: 0.3043 - accuracy: 0.8568 - val_loss: 0.3199 - val_accuracy: 0.8500\n",
      "Epoch 58/100\n",
      "943/943 [==============================] - 2s 2ms/step - loss: 0.3043 - accuracy: 0.8561 - val_loss: 0.3247 - val_accuracy: 0.8468\n",
      "Epoch 59/100\n",
      "943/943 [==============================] - 2s 2ms/step - loss: 0.3039 - accuracy: 0.8578 - val_loss: 0.3208 - val_accuracy: 0.8498\n",
      "Epoch 60/100\n",
      "943/943 [==============================] - 2s 2ms/step - loss: 0.3036 - accuracy: 0.8581 - val_loss: 0.3224 - val_accuracy: 0.8469\n",
      "Epoch 61/100\n",
      "943/943 [==============================] - 2s 2ms/step - loss: 0.3031 - accuracy: 0.8583 - val_loss: 0.3210 - val_accuracy: 0.8490\n",
      "Epoch 62/100\n",
      "943/943 [==============================] - 2s 2ms/step - loss: 0.3030 - accuracy: 0.8574 - val_loss: 0.3261 - val_accuracy: 0.8503\n",
      "Epoch 63/100\n",
      "943/943 [==============================] - 2s 2ms/step - loss: 0.3029 - accuracy: 0.8582 - val_loss: 0.3214 - val_accuracy: 0.8484\n",
      "Epoch 64/100\n",
      "943/943 [==============================] - 2s 2ms/step - loss: 0.3031 - accuracy: 0.8577 - val_loss: 0.3194 - val_accuracy: 0.8508\n",
      "Epoch 65/100\n",
      "943/943 [==============================] - 2s 2ms/step - loss: 0.3029 - accuracy: 0.8568 - val_loss: 0.3223 - val_accuracy: 0.8500\n",
      "Epoch 66/100\n",
      "943/943 [==============================] - 2s 2ms/step - loss: 0.3028 - accuracy: 0.8579 - val_loss: 0.3201 - val_accuracy: 0.8503\n",
      "Epoch 67/100\n",
      "943/943 [==============================] - 2s 2ms/step - loss: 0.3018 - accuracy: 0.8585 - val_loss: 0.3216 - val_accuracy: 0.8500\n",
      "Epoch 68/100\n",
      "943/943 [==============================] - 2s 2ms/step - loss: 0.3017 - accuracy: 0.8591 - val_loss: 0.3214 - val_accuracy: 0.8489\n",
      "Epoch 69/100\n",
      "943/943 [==============================] - 2s 2ms/step - loss: 0.3016 - accuracy: 0.8583 - val_loss: 0.3226 - val_accuracy: 0.8504\n",
      "Epoch 70/100\n",
      "943/943 [==============================] - 2s 2ms/step - loss: 0.3010 - accuracy: 0.8587 - val_loss: 0.3225 - val_accuracy: 0.8505\n",
      "Epoch 71/100\n",
      "943/943 [==============================] - 2s 2ms/step - loss: 0.3011 - accuracy: 0.8580 - val_loss: 0.3273 - val_accuracy: 0.8497\n",
      "Epoch 72/100\n",
      "943/943 [==============================] - 2s 2ms/step - loss: 0.3009 - accuracy: 0.8587 - val_loss: 0.3248 - val_accuracy: 0.8500\n",
      "Epoch 73/100\n",
      "943/943 [==============================] - 2s 2ms/step - loss: 0.3005 - accuracy: 0.8590 - val_loss: 0.3227 - val_accuracy: 0.8491\n",
      "Epoch 74/100\n",
      "943/943 [==============================] - 2s 2ms/step - loss: 0.3005 - accuracy: 0.8587 - val_loss: 0.3221 - val_accuracy: 0.8489\n",
      "Epoch 75/100\n",
      "943/943 [==============================] - 2s 2ms/step - loss: 0.3002 - accuracy: 0.8593 - val_loss: 0.3230 - val_accuracy: 0.8489\n",
      "Epoch 76/100\n",
      "943/943 [==============================] - 2s 2ms/step - loss: 0.2998 - accuracy: 0.8578 - val_loss: 0.3253 - val_accuracy: 0.8482\n",
      "Epoch 77/100\n",
      "943/943 [==============================] - 2s 2ms/step - loss: 0.2997 - accuracy: 0.8587 - val_loss: 0.3231 - val_accuracy: 0.8500\n",
      "Epoch 78/100\n",
      "943/943 [==============================] - 2s 2ms/step - loss: 0.2993 - accuracy: 0.8587 - val_loss: 0.3221 - val_accuracy: 0.8492\n",
      "Epoch 79/100\n",
      "943/943 [==============================] - 2s 2ms/step - loss: 0.2991 - accuracy: 0.8583 - val_loss: 0.3227 - val_accuracy: 0.8484\n",
      "Epoch 80/100\n",
      "943/943 [==============================] - 2s 2ms/step - loss: 0.2984 - accuracy: 0.8602 - val_loss: 0.3238 - val_accuracy: 0.8496\n",
      "Epoch 81/100\n",
      "943/943 [==============================] - 2s 2ms/step - loss: 0.2987 - accuracy: 0.8597 - val_loss: 0.3244 - val_accuracy: 0.8479\n",
      "Epoch 82/100\n",
      "943/943 [==============================] - 2s 2ms/step - loss: 0.2983 - accuracy: 0.8583 - val_loss: 0.3236 - val_accuracy: 0.8479\n",
      "Epoch 83/100\n",
      "943/943 [==============================] - 2s 2ms/step - loss: 0.2977 - accuracy: 0.8601 - val_loss: 0.3245 - val_accuracy: 0.8481\n",
      "Epoch 84/100\n",
      "943/943 [==============================] - 2s 2ms/step - loss: 0.2980 - accuracy: 0.8604 - val_loss: 0.3244 - val_accuracy: 0.8494\n",
      "Epoch 85/100\n",
      "943/943 [==============================] - 2s 2ms/step - loss: 0.2975 - accuracy: 0.8598 - val_loss: 0.3237 - val_accuracy: 0.8487\n",
      "Epoch 86/100\n",
      "943/943 [==============================] - 2s 2ms/step - loss: 0.2970 - accuracy: 0.8607 - val_loss: 0.3267 - val_accuracy: 0.8457\n",
      "Epoch 87/100\n",
      "943/943 [==============================] - 2s 2ms/step - loss: 0.2967 - accuracy: 0.8599 - val_loss: 0.3232 - val_accuracy: 0.8496\n",
      "Epoch 88/100\n",
      "943/943 [==============================] - 2s 2ms/step - loss: 0.2968 - accuracy: 0.8613 - val_loss: 0.3252 - val_accuracy: 0.8506\n",
      "Epoch 89/100\n",
      "943/943 [==============================] - 2s 2ms/step - loss: 0.2964 - accuracy: 0.8621 - val_loss: 0.3251 - val_accuracy: 0.8477\n",
      "Epoch 90/100\n",
      "943/943 [==============================] - 2s 2ms/step - loss: 0.2959 - accuracy: 0.8602 - val_loss: 0.3262 - val_accuracy: 0.8479\n",
      "Epoch 91/100\n",
      "943/943 [==============================] - 2s 2ms/step - loss: 0.2953 - accuracy: 0.8615 - val_loss: 0.3258 - val_accuracy: 0.8493\n",
      "Epoch 92/100\n",
      "943/943 [==============================] - 2s 2ms/step - loss: 0.2954 - accuracy: 0.8608 - val_loss: 0.3246 - val_accuracy: 0.8495\n",
      "Epoch 93/100\n",
      "943/943 [==============================] - 2s 2ms/step - loss: 0.2954 - accuracy: 0.8606 - val_loss: 0.3317 - val_accuracy: 0.8426\n",
      "Epoch 94/100\n",
      "943/943 [==============================] - 2s 2ms/step - loss: 0.2946 - accuracy: 0.8615 - val_loss: 0.3264 - val_accuracy: 0.8478\n",
      "Epoch 95/100\n",
      "943/943 [==============================] - 2s 2ms/step - loss: 0.2944 - accuracy: 0.8615 - val_loss: 0.3251 - val_accuracy: 0.8473\n",
      "Epoch 96/100\n",
      "943/943 [==============================] - 2s 2ms/step - loss: 0.2945 - accuracy: 0.8614 - val_loss: 0.3253 - val_accuracy: 0.8481\n",
      "Epoch 97/100\n",
      "943/943 [==============================] - 2s 2ms/step - loss: 0.2939 - accuracy: 0.8616 - val_loss: 0.3293 - val_accuracy: 0.8459\n",
      "Epoch 98/100\n",
      "943/943 [==============================] - 2s 2ms/step - loss: 0.2935 - accuracy: 0.8621 - val_loss: 0.3269 - val_accuracy: 0.8495\n",
      "Epoch 99/100\n",
      "943/943 [==============================] - 2s 2ms/step - loss: 0.2932 - accuracy: 0.8613 - val_loss: 0.3310 - val_accuracy: 0.8491\n",
      "Epoch 100/100\n",
      "943/943 [==============================] - 2s 2ms/step - loss: 0.2931 - accuracy: 0.8628 - val_loss: 0.3276 - val_accuracy: 0.8476\n"
     ]
    },
    {
     "data": {
      "text/plain": [
       "<keras.src.callbacks.History at 0x7fec91b410a0>"
      ]
     },
     "execution_count": 7,
     "metadata": {},
     "output_type": "execute_result"
    }
   ],
   "source": [
    "model.fit(X_train, y_train, validation_data= (X_test, y_test), batch_size=32,epochs=100, callbacks=[history_sgd])"
   ]
  },
  {
   "cell_type": "code",
   "execution_count": 8,
   "metadata": {},
   "outputs": [
    {
     "data": {
      "text/plain": [
       "dict_keys(['loss', 'accuracy', 'val_loss', 'val_accuracy'])"
      ]
     },
     "execution_count": 8,
     "metadata": {},
     "output_type": "execute_result"
    }
   ],
   "source": [
    "history_sgd.history.keys()"
   ]
  },
  {
   "cell_type": "code",
   "execution_count": 9,
   "metadata": {},
   "outputs": [
    {
     "data": {
      "image/png": "[encoded data removed]",
      "text/plain": [
       "<Figure size 640x480 with 1 Axes>"
      ]
     },
     "metadata": {},
     "output_type": "display_data"
    }
   ],
   "source": [
    "import matplotlib.pyplot as pl\n",
    "plt.plot(history_sgd.history['accuracy'], label = \"tarina\")\n",
    "plt.plot(history_sgd.history['val_accuracy'], label = \"test\")\n",
    "plt.legend()\n",
    "plt.show()"
   ]
  },
  {
   "cell_type": "code",
   "execution_count": 10,
   "metadata": {},
   "outputs": [
    {
     "data": {
      "image/png": "[encoded data removed]",
      "text/plain": [
       "<Figure size 640x480 with 1 Axes>"
      ]
     },
     "metadata": {},
     "output_type": "display_data"
    }
   ],
   "source": [
    "import matplotlib.pyplot as pl\n",
    "plt.plot(history_sgd.history['loss'], label = \"tarina\")\n",
    "plt.plot(history_sgd.history['val_loss'], label = \"test\")\n",
    "plt.legend()\n",
    "plt.show()"
   ]
  },
  {
   "cell_type": "markdown",
   "metadata": {},
   "source": [
    "# RMSprop"
   ]
  },
  {
   "cell_type": "code",
   "execution_count": null,
   "metadata": {},
   "outputs": [],
   "source": []
  },
  {
   "cell_type": "code",
   "execution_count": 12,
   "metadata": {},
   "outputs": [
    {
     "data": {
      "image/png": "[encoded data removed]",
      "text/plain": [
       "<Figure size 432x288 with 1 Axes>"
      ]
     },
     "metadata": {
      "needs_background": "light"
     },
     "output_type": "display_data"
    }
   ],
   "source": []
  },
  {
   "cell_type": "markdown",
   "metadata": {},
   "source": [
    "# Adagrad"
   ]
  },
  {
   "cell_type": "code",
   "execution_count": null,
   "metadata": {},
   "outputs": [],
   "source": []
  },
  {
   "cell_type": "code",
   "execution_count": null,
   "metadata": {},
   "outputs": [],
   "source": []
  },
  {
   "cell_type": "markdown",
   "metadata": {},
   "source": [
    "# Adadelta"
   ]
  },
  {
   "cell_type": "code",
   "execution_count": null,
   "metadata": {},
   "outputs": [],
   "source": []
  },
  {
   "cell_type": "code",
   "execution_count": null,
   "metadata": {},
   "outputs": [],
   "source": []
  },
  {
   "cell_type": "markdown",
   "metadata": {},
   "source": [
    "# Adam"
   ]
  },
  {
   "cell_type": "code",
   "execution_count": null,
   "metadata": {},
   "outputs": [],
   "source": []
  },
  {
   "cell_type": "markdown",
   "metadata": {},
   "source": [
    "# Adam"
   ]
  },
  {
   "cell_type": "code",
   "execution_count": null,
   "metadata": {},
   "outputs": [],
   "source": []
  }
 ],
 "metadata": {
  "kernelspec": {
   "display_name": "Python 3 (ipykernel)",
   "language": "python",
   "name": "python3"
  },
  "language_info": {
   "codemirror_mode": {
    "name": "ipython",
    "version": 3
   },
   "file_extension": ".py",
   "mimetype": "text/x-python",
   "name": "python",
   "nbconvert_exporter": "python",
   "pygments_lexer": "ipython3",
   "version": "3.8.10"
  }
 },
 "nbformat": 4,
 "nbformat_minor": 4
}
