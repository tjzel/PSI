{
 "cells": [
  {
   "cell_type": "code",
   "execution_count": 1,
   "metadata": {},
   "outputs": [
    {
     "name": "stderr",
     "output_type": "stream",
     "text": [
      "2024-05-04 13:36:19.721870: I tensorflow/core/platform/cpu_feature_guard.cc:182] This TensorFlow binary is optimized to use available CPU instructions in performance-critical operations.\n",
      "To enable the following instructions: AVX2 FMA, in other operations, rebuild TensorFlow with the appropriate compiler flags.\n"
     ]
    },
    {
     "name": "stdout",
     "output_type": "stream",
     "text": [
      "2.13.1\n"
     ]
    }
   ],
   "source": [
    "import tensorflow as tf\n",
    "from tensorflow import keras\n",
    "print(tf.__version__)\n"
   ]
  },
  {
   "cell_type": "code",
   "execution_count": 2,
   "metadata": {},
   "outputs": [],
   "source": [
    "import numpy as np\n",
    "import pandas as pd\n",
    "import matplotlib.pyplot as plt\n",
    "import os"
   ]
  },
  {
   "cell_type": "code",
   "execution_count": 3,
   "metadata": {},
   "outputs": [],
   "source": [
    "from sklearn.datasets import fetch_california_housing\n",
    "from sklearn.model_selection import train_test_split\n",
    "from sklearn.preprocessing import StandardScaler\n",
    "\n",
    "housing = fetch_california_housing()\n",
    "\n",
    "X_train_full, X_test, y_train_full, y_test = train_test_split(housing.data, housing.target, random_state=42)\n",
    "X_train, X_valid, y_train, y_valid = train_test_split(X_train_full, y_train_full, random_state=42)\n",
    "\n"
   ]
  },
  {
   "cell_type": "code",
   "execution_count": 4,
   "metadata": {},
   "outputs": [],
   "source": [
    "np.random.seed(42)\n",
    "tf.random.set_seed(42)"
   ]
  },
  {
   "cell_type": "code",
   "execution_count": 7,
   "metadata": {},
   "outputs": [
    {
     "name": "stdout",
     "output_type": "stream",
     "text": [
      "Epoch 1/20\n",
      "363/363 [==============================] - 1s 2ms/step - loss: 1389221534261837824.0000 - val_loss: 679094660366336.0000\n",
      "Epoch 2/20\n",
      "363/363 [==============================] - 1s 1ms/step - loss: 358828545671168.0000 - val_loss: 158746235895808.0000\n",
      "Epoch 3/20\n",
      "363/363 [==============================] - 1s 1ms/step - loss: 83880149254144.0000 - val_loss: 37108597129216.0000\n",
      "Epoch 4/20\n",
      "363/363 [==============================] - 1s 1ms/step - loss: 19607932895232.0000 - val_loss: 8674559918080.0000\n",
      "Epoch 5/20\n",
      "363/363 [==============================] - 1s 1ms/step - loss: 4583575781376.0000 - val_loss: 2027778473984.0000\n",
      "Epoch 6/20\n",
      "363/363 [==============================] - 1s 2ms/step - loss: 1071463464960.0000 - val_loss: 474017464320.0000\n",
      "Epoch 7/20\n",
      "363/363 [==============================] - 1s 2ms/step - loss: 250466861056.0000 - val_loss: 110807031808.0000\n",
      "Epoch 8/20\n",
      "363/363 [==============================] - 1s 2ms/step - loss: 58549518336.0000 - val_loss: 25902381056.0000\n",
      "Epoch 9/20\n",
      "363/363 [==============================] - 1s 2ms/step - loss: 13686596608.0000 - val_loss: 6054967296.0000\n",
      "Epoch 10/20\n",
      "363/363 [==============================] - 1s 1ms/step - loss: 3199393792.0000 - val_loss: 1415419392.0000\n",
      "Epoch 11/20\n",
      "363/363 [==============================] - 1s 1ms/step - loss: 747895424.0000 - val_loss: 330871328.0000\n",
      "Epoch 12/20\n",
      "363/363 [==============================] - 1s 2ms/step - loss: 174829088.0000 - val_loss: 77345400.0000\n",
      "Epoch 13/20\n",
      "363/363 [==============================] - 1s 2ms/step - loss: 40868268.0000 - val_loss: 18080580.0000\n",
      "Epoch 14/20\n",
      "363/363 [==============================] - 1s 2ms/step - loss: 9553429.0000 - val_loss: 4226644.5000\n",
      "Epoch 15/20\n",
      "363/363 [==============================] - 1s 2ms/step - loss: 2233226.2500 - val_loss: 988076.2500\n",
      "Epoch 16/20\n",
      "363/363 [==============================] - 1s 2ms/step - loss: 522043.0938 - val_loss: 230997.7656\n",
      "Epoch 17/20\n",
      "363/363 [==============================] - 1s 2ms/step - loss: 122034.0625 - val_loss: 54010.8828\n",
      "Epoch 18/20\n",
      "363/363 [==============================] - 1s 2ms/step - loss: 28527.8008 - val_loss: 12631.7725\n",
      "Epoch 19/20\n",
      "363/363 [==============================] - 1s 2ms/step - loss: 6669.6953 - val_loss: 2956.6355\n",
      "Epoch 20/20\n",
      "363/363 [==============================] - 1s 1ms/step - loss: 1560.2283 - val_loss: 693.4617\n",
      "162/162 [==============================] - 0s 1ms/step - loss: 691.9891\n",
      "1/1 [==============================] - 0s 49ms/step\n"
     ]
    }
   ],
   "source": [
    "model = keras.models.Sequential([\n",
    "    keras.layers.Dense(30, activation=\"relu\", input_shape=X_train.shape[1:]),\n",
    "    keras.layers.Dense(1)\n",
    "])\n",
    "model.compile(loss=\"mean_squared_error\", optimizer=keras.optimizers.SGD(learning_rate=1e-3))\n",
    "history = model.fit(X_train, y_train, epochs=20, validation_data=(X_valid, y_valid))\n",
    "mse_test = model.evaluate(X_test, y_test)\n",
    "X_new = X_test[:3]\n",
    "y_pred = model.predict(X_new)"
   ]
  },
  {
   "cell_type": "code",
   "execution_count": 8,
   "metadata": {},
   "outputs": [
    {
     "data": {
      "image/png": "[encoded data removed]",
      "text/plain": [
       "<Figure size 640x480 with 1 Axes>"
      ]
     },
     "metadata": {},
     "output_type": "display_data"
    }
   ],
   "source": [
    "plt.plot(pd.DataFrame(history.history))\n",
    "plt.grid(True)\n",
    "plt.show()"
   ]
  },
  {
   "cell_type": "markdown",
   "metadata": {},
   "source": [
    "# Zad\n",
    "\n",
    "Porównaj powyższy wynik z nauką na danych znormalizowanych."
   ]
  },
  {
   "cell_type": "code",
   "execution_count": null,
   "metadata": {},
   "outputs": [],
   "source": []
  },
  {
   "cell_type": "code",
   "execution_count": 25,
   "metadata": {},
   "outputs": [
    {
     "data": {
      "image/png": "[encoded data removed]",
      "text/plain": [
       "<Figure size 432x288 with 1 Axes>"
      ]
     },
     "metadata": {
      "needs_background": "light"
     },
     "output_type": "display_data"
    }
   ],
   "source": []
  },
  {
   "cell_type": "markdown",
   "metadata": {},
   "source": [
    "# Dane zawsze muszą być przeskalowane"
   ]
  },
  {
   "cell_type": "code",
   "execution_count": null,
   "metadata": {},
   "outputs": [],
   "source": []
  }
 ],
 "metadata": {
  "kernelspec": {
   "display_name": "Python 3 (ipykernel)",
   "language": "python",
   "name": "python3"
  },
  "language_info": {
   "codemirror_mode": {
    "name": "ipython",
    "version": 3
   },
   "file_extension": ".py",
   "mimetype": "text/x-python",
   "name": "python",
   "nbconvert_exporter": "python",
   "pygments_lexer": "ipython3",
   "version": "3.8.10"
  }
 },
 "nbformat": 4,
 "nbformat_minor": 4
}
