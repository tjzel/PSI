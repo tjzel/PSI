{
 "cells": [
  {
   "cell_type": "code",
   "execution_count": 1,
   "metadata": {},
   "outputs": [],
   "source": [
    "import numpy as np\n",
    "import pandas as pd\n",
    "import matplotlib.pyplot as plt\n",
    "import statsmodels.api as sm\n",
    "import seaborn as sns\n",
    "import statsmodels.formula.api as smf"
   ]
  },
  {
   "cell_type": "markdown",
   "metadata": {},
   "source": [
    "W poniższym przykładzie posłużymy się zestawem danych reklamowych, obejmującym sprzedaż produktów i ich budżet reklamowy w trzech różnych mediach telewizyjnych, radiu, gazetach."
   ]
  },
  {
   "cell_type": "code",
   "execution_count": 2,
   "metadata": {},
   "outputs": [
    {
     "data": {
      "text/html": [
       "<div>\n",
       "<style scoped>\n",
       "    .dataframe tbody tr th:only-of-type {\n",
       "        vertical-align: middle;\n",
       "    }\n",
       "\n",
       "    .dataframe tbody tr th {\n",
       "        vertical-align: top;\n",
       "    }\n",
       "\n",
       "    .dataframe thead th {\n",
       "        text-align: right;\n",
       "    }\n",
       "</style>\n",
       "<table border=\"1\" class=\"dataframe\">\n",
       "  <thead>\n",
       "    <tr style=\"text-align: right;\">\n",
       "      <th></th>\n",
       "      <th>TV</th>\n",
       "      <th>radio</th>\n",
       "      <th>newspaper</th>\n",
       "      <th>sales</th>\n",
       "    </tr>\n",
       "  </thead>\n",
       "  <tbody>\n",
       "    <tr>\n",
       "      <th>1</th>\n",
       "      <td>230.1</td>\n",
       "      <td>37.8</td>\n",
       "      <td>69.2</td>\n",
       "      <td>22.1</td>\n",
       "    </tr>\n",
       "    <tr>\n",
       "      <th>2</th>\n",
       "      <td>44.5</td>\n",
       "      <td>39.3</td>\n",
       "      <td>45.1</td>\n",
       "      <td>10.4</td>\n",
       "    </tr>\n",
       "    <tr>\n",
       "      <th>3</th>\n",
       "      <td>17.2</td>\n",
       "      <td>45.9</td>\n",
       "      <td>69.3</td>\n",
       "      <td>9.3</td>\n",
       "    </tr>\n",
       "    <tr>\n",
       "      <th>4</th>\n",
       "      <td>151.5</td>\n",
       "      <td>41.3</td>\n",
       "      <td>58.5</td>\n",
       "      <td>18.5</td>\n",
       "    </tr>\n",
       "    <tr>\n",
       "      <th>5</th>\n",
       "      <td>180.8</td>\n",
       "      <td>10.8</td>\n",
       "      <td>58.4</td>\n",
       "      <td>12.9</td>\n",
       "    </tr>\n",
       "  </tbody>\n",
       "</table>\n",
       "</div>"
      ],
      "text/plain": [
       "      TV  radio  newspaper  sales\n",
       "1  230.1   37.8       69.2   22.1\n",
       "2   44.5   39.3       45.1   10.4\n",
       "3   17.2   45.9       69.3    9.3\n",
       "4  151.5   41.3       58.5   18.5\n",
       "5  180.8   10.8       58.4   12.9"
      ]
     },
     "execution_count": 2,
     "metadata": {},
     "output_type": "execute_result"
    }
   ],
   "source": [
    "df_adv = pd.read_csv('https://raw.githubusercontent.com/przem85/bootcamp/master/statistics/Advertising.csv', index_col=0)\n",
    "df_adv.head()"
   ]
  },
  {
   "cell_type": "markdown",
   "metadata": {},
   "source": [
    "# Zad 1\n",
    "Proszę narysować dane za pomoca \n",
    "```python\n",
    "sns.pairplot()\n",
    "```"
   ]
  },
  {
   "cell_type": "code",
   "execution_count": null,
   "metadata": {},
   "outputs": [],
   "source": []
  },
  {
   "cell_type": "markdown",
   "metadata": {},
   "source": [
    "# Zad 2\n",
    "Proszę wyrysować dane za pomoca \n",
    "```python\n",
    "sns.heatmap()\n",
    "```"
   ]
  },
  {
   "cell_type": "code",
   "execution_count": null,
   "metadata": {},
   "outputs": [],
   "source": []
  },
  {
   "cell_type": "markdown",
   "metadata": {},
   "source": [
    "# Zadanie 1 - Konkurs\n",
    "Wykonaj model pozwalający przewidzieć zmienną \"Sales\" na podstawie innych zmiennych.\n"
   ]
  },
  {
   "cell_type": "code",
   "execution_count": null,
   "metadata": {},
   "outputs": [],
   "source": [
    "est = smf.ols(formula='sales ~ I(newspaper)*I(TV)*I(radio)', data=df_adv).fit()\n",
    "print((est.summary2()))"
   ]
  },
  {
   "cell_type": "code",
   "execution_count": 18,
   "metadata": {},
   "outputs": [
    {
     "name": "stdout",
     "output_type": "stream",
     "text": [
      "                     Results: Ordinary least squares\n",
      "==========================================================================\n",
      "Model:                  OLS                Adj. R-squared:       0.968    \n",
      "Dependent Variable:     sales              AIC:                  550.9065 \n",
      "Date:                   2020-03-27 14:54   BIC:                  577.2930 \n",
      "No. Observations:       200                Log-Likelihood:       -267.45  \n",
      "Df Model:               7                  F-statistic:          847.3    \n",
      "Df Residuals:           192                Prob (F-statistic):   1.16e-140\n",
      "R-squared:              0.969              Scale:                0.88469  \n",
      "--------------------------------------------------------------------------\n",
      "                             Coef.  Std.Err.    t    P>|t|   [0.025 0.975]\n",
      "--------------------------------------------------------------------------\n",
      "Intercept                    6.5559   0.4655 14.0825 0.0000  5.6377 7.4741\n",
      "I(newspaper)                 0.0131   0.0172  0.7615 0.4473 -0.0208 0.0471\n",
      "I(TV)                        0.0197   0.0027  7.2498 0.0000  0.0143 0.0251\n",
      "I(newspaper):I(TV)          -0.0001   0.0001 -0.5946 0.5528 -0.0002 0.0001\n",
      "I(radio)                     0.0196   0.0164  1.1971 0.2328 -0.0127 0.0520\n",
      "I(newspaper):I(radio)        0.0000   0.0005  0.0188 0.9851 -0.0009 0.0010\n",
      "I(TV):I(radio)               0.0012   0.0001 11.9089 0.0000  0.0010 0.0014\n",
      "I(newspaper):I(TV):I(radio) -0.0000   0.0000 -0.2818 0.7784 -0.0000 0.0000\n",
      "--------------------------------------------------------------------------\n",
      "Omnibus:                 110.676         Durbin-Watson:            2.224  \n",
      "Prob(Omnibus):           0.000           Jarque-Bera (JB):         751.534\n",
      "Skew:                    -2.035          Prob(JB):                 0.000  \n",
      "Kurtosis:                11.580          Condition No.:            1557292\n",
      "==========================================================================\n",
      "* The condition number is large (2e+06). This might indicate\n",
      "strong multicollinearity or other numerical problems.\n"
     ]
    }
   ],
   "source": [
    "import statsmodels.formula.api as smf\n",
    "\n",
    "# est = smf.ols(formula='sales ~ I(newspaper)*I(TV)*I(radio)', data=df_adv).fit()\n",
    "\n",
    "est = smf.ols(formula='sales ~ I(newspaper)*I(TV)*I(radio)', data=df_adv).fit()\n",
    "print((est.summary2()))"
   ]
  },
  {
   "cell_type": "code",
   "execution_count": null,
   "metadata": {},
   "outputs": [],
   "source": []
  },
  {
   "cell_type": "code",
   "execution_count": 22,
   "metadata": {},
   "outputs": [
    {
     "name": "stdout",
     "output_type": "stream",
     "text": [
      "                 Results: Ordinary least squares\n",
      "==================================================================\n",
      "Model:              OLS              Adj. R-squared:     0.993    \n",
      "Dependent Variable: sales            AIC:                254.6894 \n",
      "Date:               2020-03-26 13:29 BIC:                281.0759 \n",
      "No. Observations:   200              Log-Likelihood:     -119.34  \n",
      "Df Model:           7                F-statistic:        3819.    \n",
      "Df Residuals:       192              Prob (F-statistic): 2.20e-202\n",
      "R-squared:          0.993            Scale:              0.20117  \n",
      "------------------------------------------------------------------\n",
      "                   Coef.  Std.Err.    t     P>|t|   [0.025  0.975]\n",
      "------------------------------------------------------------------\n",
      "Intercept          0.0304   0.0009  35.4141 0.0000  0.0287  0.0321\n",
      "I(TV)              0.4289   0.0125  34.2512 0.0000  0.4042  0.4536\n",
      "I(radio)           0.0571   0.0038  14.8496 0.0000  0.0495  0.0647\n",
      "I(TV ** 2)        -0.0090   0.0004 -20.2039 0.0000 -0.0099 -0.0081\n",
      "I(TV):I(radio)     0.0010   0.0000  41.6489 0.0000  0.0009  0.0010\n",
      "I(TV ** 3)         0.0001   0.0000  15.5360 0.0000  0.0001  0.0001\n",
      "I(TV ** 4)        -0.0000   0.0000 -13.0363 0.0000 -0.0000 -0.0000\n",
      "I(TV ** 5)         0.0000   0.0000  11.4351 0.0000  0.0000  0.0000\n",
      "I(TV ** 6)        -0.0000   0.0000 -10.3026 0.0000 -0.0000 -0.0000\n",
      "------------------------------------------------------------------\n",
      "Omnibus:            8.896    Durbin-Watson:       2.098           \n",
      "Prob(Omnibus):      0.012    Jarque-Bera (JB):    15.180          \n",
      "Skew:               0.181    Prob(JB):            0.001           \n",
      "Kurtosis:           4.300    Condition No.:       1471184064831192\n",
      "==================================================================\n",
      "* The condition number is large (1e+15). This might indicate\n",
      "strong multicollinearity or other numerical problems.\n"
     ]
    }
   ],
   "source": [
    "est = smf.ols(formula='sales ~ I(TV) + I(radio) + I(TV**2) +  I(TV):I(radio)  + I(TV**3) + I(TV**4) + I(TV**5) + I(TV**6) ', data=df_adv).fit()\n",
    "print((est.summary2()))"
   ]
  },
  {
   "cell_type": "code",
   "execution_count": 9,
   "metadata": {},
   "outputs": [
    {
     "name": "stdout",
     "output_type": "stream",
     "text": [
      "                 Results: Ordinary least squares\n",
      "==================================================================\n",
      "Model:              OLS              Adj. R-squared:     0.935    \n",
      "Dependent Variable: sales            AIC:                685.7094 \n",
      "Date:               2020-03-26 13:22 BIC:                698.9027 \n",
      "No. Observations:   200              Log-Likelihood:     -338.85  \n",
      "Df Model:           3                F-statistic:        955.0    \n",
      "Df Residuals:       196              Prob (F-statistic): 1.16e-116\n",
      "R-squared:          0.936            Scale:              1.7698   \n",
      "------------------------------------------------------------------\n",
      "                    Coef.  Std.Err.    t    P>|t|   [0.025  0.975]\n",
      "------------------------------------------------------------------\n",
      "Intercept          10.1955   0.3396 30.0181 0.0000  9.5257 10.8653\n",
      "I(newspaper)        0.0003   0.0046  0.0574 0.9543 -0.0087  0.0093\n",
      "I(TV):I(radio)      0.0016   0.0000 44.3924 0.0000  0.0015  0.0017\n",
      "np.log(radio + 1)  -0.6088   0.1356 -4.4884 0.0000 -0.8763 -0.3413\n",
      "------------------------------------------------------------------\n",
      "Omnibus:              87.211       Durbin-Watson:          2.415  \n",
      "Prob(Omnibus):        0.000        Jarque-Bera (JB):       284.657\n",
      "Skew:                 -1.833       Prob(JB):               0.000  \n",
      "Kurtosis:             7.552        Condition No.:          18505  \n",
      "==================================================================\n",
      "* The condition number is large (2e+04). This might indicate\n",
      "strong multicollinearity or other numerical problems.\n"
     ]
    }
   ],
   "source": [
    "# formula: response ~ predictor + predictor\n",
    "est = smf.ols(formula='sales ~ I(newspaper)+I(TV):I(radio)+np.log(radio+1)', data=df_adv).fit()\n",
    "print((est.summary2()))"
   ]
  }
 ],
 "metadata": {
  "kernelspec": {
   "display_name": "Python 3",
   "language": "python",
   "name": "python3"
  },
  "language_info": {
   "codemirror_mode": {
    "name": "ipython",
    "version": 3
   },
   "file_extension": ".py",
   "mimetype": "text/x-python",
   "name": "python",
   "nbconvert_exporter": "python",
   "pygments_lexer": "ipython3",
   "version": "3.7.3"
  }
 },
 "nbformat": 4,
 "nbformat_minor": 2
}
