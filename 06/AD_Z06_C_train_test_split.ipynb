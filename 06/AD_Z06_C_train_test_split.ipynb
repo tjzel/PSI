{
 "cells": [
  {
   "cell_type": "markdown",
   "metadata": {},
   "source": [
    "# Train test split\n"
   ]
  },
  {
   "cell_type": "code",
   "execution_count": 7,
   "metadata": {},
   "outputs": [],
   "source": [
    "import numpy as np\n",
    "import pandas as pd\n",
    "import scipy.stats as stats\n",
    "import sklearn.linear_model as lm\n",
    "from sklearn import datasets, linear_model\n",
    "import matplotlib.pyplot as plt\n",
    "\n",
    "from sklearn.preprocessing import PolynomialFeatures\n",
    "from sklearn.pipeline import make_pipeline\n",
    "\n",
    "from sklearn import  metrics"
   ]
  },
  {
   "cell_type": "markdown",
   "metadata": {},
   "source": [
    "Rozważmy następujący zbiór punktów:"
   ]
  },
  {
   "cell_type": "code",
   "execution_count": 8,
   "metadata": {},
   "outputs": [
    {
     "data": {
      "image/png": "[encoded data removed]",
      "text/plain": [
       "<Figure size 640x480 with 1 Axes>"
      ]
     },
     "metadata": {},
     "output_type": "display_data"
    }
   ],
   "source": [
    "x = stats.uniform(0,3).rvs(100)\n",
    "f = lambda x: ((x*2-1)*(x**2-2)*(x-2)+3)\n",
    "y = f(x) + stats.norm(0,0.3).rvs(len(x))\n",
    "plt.plot(x, y, 'ok', ms=10)\n",
    "plt.show()"
   ]
  },
  {
   "cell_type": "markdown",
   "metadata": {},
   "source": [
    "# Przykład\n",
    "Podziel zbiór danych na część testową i treningową. \n",
    "Naucz model na części treningowej i ocen wyniki na części testowej."
   ]
  },
  {
   "cell_type": "code",
   "execution_count": 9,
   "metadata": {},
   "outputs": [
    {
     "name": "stdout",
     "output_type": "stream",
     "text": [
      "(60,) (60,)\n",
      "(40,) (40,)\n"
     ]
    }
   ],
   "source": [
    "from sklearn.model_selection import train_test_split\n",
    "X_train, X_test, y_train, y_test = train_test_split(x, y, test_size=0.4, random_state=0)\n",
    "\n",
    "print(X_train.shape, y_train.shape)\n",
    "print(X_test.shape, y_test.shape)"
   ]
  },
  {
   "cell_type": "code",
   "execution_count": 10,
   "metadata": {},
   "outputs": [],
   "source": [
    "X_train=np.vstack(X_train)\n",
    "X_test=np.vstack(X_test)"
   ]
  },
  {
   "cell_type": "code",
   "execution_count": 11,
   "metadata": {},
   "outputs": [
    {
     "data": {
      "text/plain": [
       "array([  5.69908603,   2.73698645,  18.32660318,   3.67449163,\n",
       "         2.61828581,  35.11116692,   2.73191838,   4.0756763 ,\n",
       "         2.67451003,   8.59530002,   3.32751157,   3.97183973,\n",
       "         1.66208246,   2.52495206,   4.05352753,   3.79280647,\n",
       "       -19.25569141,   2.8503168 ,   2.45672559,   3.64082712,\n",
       "         2.39923229,   3.55226817,  25.82842065,  14.18545585,\n",
       "         3.11977651,   3.99029552,   2.80690153,   3.89817396,\n",
       "         2.56574425,   3.74308458,   0.9074207 ,  28.41544101,\n",
       "         2.95243482,   3.64967597,   3.03135475,   2.92361313,\n",
       "         2.67535775,   4.66376173,   3.5815006 ,   7.4267998 ])"
      ]
     },
     "execution_count": 11,
     "metadata": {},
     "output_type": "execute_result"
    }
   ],
   "source": [
    "model2 = make_pipeline(PolynomialFeatures(30), linear_model.LinearRegression())\n",
    "model2.fit(X_train, y_train)\n",
    "model2.predict(X_test)"
   ]
  },
  {
   "cell_type": "code",
   "execution_count": 12,
   "metadata": {},
   "outputs": [
    {
     "name": "stdout",
     "output_type": "stream",
     "text": [
      "Explained variance score: -0.033793889015097944\n",
      "Explained variance score: -0.033793889015097944\n",
      "Median absolute error: 0.17878748864067906\n",
      "Mean squared error: 90.54972969756925\n",
      "Mean absolute errors: 2.402495137996505\n"
     ]
    }
   ],
   "source": [
    "print(\"Explained variance score: {}\".format( metrics.explained_variance_score(y_test, model2.predict(X_test)) ))\n",
    "print(\"Explained variance score: {}\".format( metrics.explained_variance_score(y_test, model2.predict(X_test)) ))\n",
    "print(\"Median absolute error: {}\".format( metrics.median_absolute_error(y_test, model2.predict(X_test)) ))\n",
    "print(\"Mean squared error: {}\".format( metrics.mean_squared_error(y_test, model2.predict(X_test)) ))\n",
    "print(\"Mean absolute errors: {}\".format(metrics.mean_absolute_error(y_test, model2.predict(X_test)) ))"
   ]
  },
  {
   "cell_type": "markdown",
   "metadata": {},
   "source": [
    "# Zadanie 1\n",
    "Wylicz powyższe miary dla wszytkich modeli:\n",
    "\n",
    "- regrsji linowej\n",
    "- regrsji wielomianowej stopnia 2\n",
    "- regrsji wielomianowej stopnia 3\n",
    "- regrsji wielomianowej stopnia 4\n",
    "- regrsji wielomianowej stopnia 5\n",
    "- regrsji wielomianowej stopnia 25"
   ]
  },
  {
   "cell_type": "code",
   "execution_count": 13,
   "metadata": {
    "collapsed": true,
    "jupyter": {
     "outputs_hidden": true
    }
   },
   "outputs": [
    {
     "name": "stdout",
     "output_type": "stream",
     "text": [
      "Degree:  1\n",
      "Explained variance score: 0.48873995059975284\n",
      "Explained variance score: 0.48873995059975284\n",
      "Median absolute error: 3.1857373430541034\n",
      "Mean squared error: 43.656301357774225\n",
      "Mean absolute errors: 4.8053911848727076\n",
      "\n",
      "Degree:  2\n",
      "Explained variance score: 0.8213733399725552\n",
      "Explained variance score: 0.8213733399725552\n",
      "Median absolute error: 2.7869045757695057\n",
      "Mean squared error: 16.1287685386611\n",
      "Mean absolute errors: 3.136227020434851\n",
      "\n",
      "Degree:  3\n",
      "Explained variance score: 0.9915626849874978\n",
      "Explained variance score: 0.9915626849874978\n",
      "Median absolute error: 0.622825469729934\n",
      "Mean squared error: 0.7287919849523982\n",
      "Mean absolute errors: 0.6860175747008437\n",
      "\n",
      "Degree:  4\n",
      "Explained variance score: 0.9990531753693994\n",
      "Explained variance score: 0.9990531753693994\n",
      "Median absolute error: 0.17763711133720017\n",
      "Mean squared error: 0.08053430966696634\n",
      "Mean absolute errors: 0.21569531051413143\n",
      "\n",
      "Degree:  5\n",
      "Explained variance score: 0.9990921565519626\n",
      "Explained variance score: 0.9990921565519626\n",
      "Median absolute error: 0.17269541921281817\n",
      "Mean squared error: 0.07694055569560872\n",
      "Mean absolute errors: 0.2093442474599339\n",
      "\n",
      "Degree:  25\n",
      "Explained variance score: 0.8282997311120633\n",
      "Explained variance score: 0.8282997311120633\n",
      "Median absolute error: 0.24893915116039556\n",
      "Mean squared error: 14.942456743589924\n",
      "Mean absolute errors: 1.137503962548188\n",
      "\n"
     ]
    }
   ],
   "source": [
    "degrees = [1, 2, 3, 4, 5, 25]\n",
    "\n",
    "for degree in degrees:\n",
    "  print(\"Degree: \", degree)\n",
    "  model = make_pipeline(PolynomialFeatures(degree), linear_model.LinearRegression())\n",
    "  model.fit(X_train, y_train)\n",
    "  model.predict(X_test)\n",
    "  print(\"Explained variance score: {}\".format( metrics.explained_variance_score(y_test, model.predict(X_test)) ))\n",
    "  print(\"Explained variance score: {}\".format( metrics.explained_variance_score(y_test, model.predict(X_test)) ))\n",
    "  print(\"Median absolute error: {}\".format( metrics.median_absolute_error(y_test, model.predict(X_test)) ))\n",
    "  print(\"Mean squared error: {}\".format( metrics.mean_squared_error(y_test, model.predict(X_test)) ))\n",
    "  print(\"Mean absolute errors: {}\".format(metrics.mean_absolute_error(y_test, model.predict(X_test)) ))\n",
    "  print()"
   ]
  }
 ],
 "metadata": {
  "kernelspec": {
   "display_name": "Python 3 (ipykernel)",
   "language": "python",
   "name": "python3"
  },
  "language_info": {
   "codemirror_mode": {
    "name": "ipython",
    "version": 3
   },
   "file_extension": ".py",
   "mimetype": "text/x-python",
   "name": "python",
   "nbconvert_exporter": "python",
   "pygments_lexer": "ipython3",
   "version": "3.11.7"
  }
 },
 "nbformat": 4,
 "nbformat_minor": 4
}
